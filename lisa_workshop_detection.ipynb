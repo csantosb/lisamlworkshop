{
 "cells": [
  {
   "cell_type": "markdown",
   "id": "045ff866-8d3c-4e36-8023-98ffaef2f5ff",
   "metadata": {
    "collapsed": false,
    "id": "ApuIeHAL6-Rp"
   },
   "source": [
    "# Gravitational wave detection with neural networks\n",
    "\n",
    "[Joe Bayley](mailto:joseph.bayley@glasgow.ac.uk)\n",
    "[Michael J Williams](mailto:m.williams.4@research.gla.ac.uk)\n",
    "\n",
    "Institute for Gravitational Research \n",
    "\n",
    "University of Glasgow\n",
    "\n",
    "<div style=\"text-align:center\"><img src=\"https://raw.githubusercontent.com/mj-will/intro2ml/master/docs/assets/igr.jpg\" width=\"100\"/></div>\n",
    "\n",
    "Machine learning, in particular deep learning methods have been demonstrated to be able to identify gravitational wave signals quite effectively. A few notable examples for detections with LIGO include:\n",
    "[Gabbard et al](https://journals.aps.org/prl/abstract/10.1103/PhysRevLett.120.141103) where convolutional neural networks are used to detect simulated signals from binary black hole coalescence in noisy data. \n",
    "\n",
    "\n",
    "In this tutorial we will use a basic convolutional neural network to identify some massive black hole binary signals within LISA data.\n",
    "\n",
    "\n",
    "[![Open In Colab](https://colab.research.google.com/assets/colab-badge.svg)](https://colab.research.google.com/github/jcbayley/lisamlworkshop/blob/main/lisa_workshop_detection.ipynb)"
   ]
  },
  {
   "cell_type": "markdown",
   "id": "62a3d8bd-43ac-47a2-aaff-3e0d1015203d",
   "metadata": {
    "collapsed": false,
    "id": "AtWPlTZd6-Rp"
   },
   "source": [
    "The data set is a simplified parameter space for MBHB as the more complex the parameter space, the more data is needed and a more complex network is likely needed. "
   ]
  },
  {
   "cell_type": "markdown",
   "id": "b71305e7-f31d-4023-90ab-0207e97fe7f0",
   "metadata": {
    "collapsed": false,
    "id": "1NbIHxvZ6-Rp"
   },
   "source": [
    "In this example we will be using Massive Black Hole Binary signals, and have the condition that they do not overlap and that they exist purely within coloured Gaussian noise based on a projected LISA PSD. This simplifies the problem greatly for the case of detection. Also to reduce the complexity of the problem, many of the parameters for the MBHB will be fixed and only some ramdomly sampled, this again reduces the size of the parameter space and the complexity of the problem."
   ]
  },
  {
   "cell_type": "markdown",
   "id": "9c8627f8-50ab-456a-b3a3-add6e80bdb85",
   "metadata": {
    "collapsed": false,
    "id": "veMJ9yuB6-Rp"
   },
   "source": [
    "### Prior space\n",
    "\n",
    "The prior space for the MBHB is defined in the table below:\n",
    "\n",
    "| name| symbol| range| info|\n",
    "|-----|-----|-----|-----|\n",
    "|component mass | $m_1, m_2$| $[5\\times10^5, 5\\times10^6]$ $M_{\\odot}$| |\n",
    "|dimensionless spin | $\\chi_{1,2}$| $0$| |\n",
    "|Luminosity distance |$D_L$| $[5\\times10^3, 10^4]$ Mpc| |\n",
    "|merger time |$t_c$| $0.75T$| |\n",
    "|inclination | $\\theta_{jn}$ | $0$| angle between total angular momentum (J) and line of sight(n)|\n",
    "|phase at merger | $\\phi_c$ | $0$| |\n",
    "|polarisation | $\\psi$ | $0$| |\n",
    "|longitude | $\\phi$ | $0$| |\n",
    "|cos latitude |$\\cos \\theta$| $0$| |"
   ]
  },
  {
   "cell_type": "markdown",
   "id": "97226a34-b631-46aa-9660-96872fffa124",
   "metadata": {
    "collapsed": false,
    "id": "QXXy3ytW6-Rq"
   },
   "source": [
    "To reduce the size of the dataset further and simplify the problem for this notebook, we have also used a low sampling rate and duration\n",
    "\n",
    "| name| value|\n",
    "| -----| ---- |\n",
    "| sampling frequency| $1$ mHz|\n",
    "| duration | $1024000$ s (~11 days)|"
   ]
  },
  {
   "cell_type": "markdown",
   "id": "c6846047-e329-4917-b57c-2b82feb8cd9e",
   "metadata": {
    "collapsed": false,
    "id": "7M_ksct76-Rq"
   },
   "source": [
    "We also choose to use the TDI outputs X,Y,Z as input to the network"
   ]
  },
  {
   "cell_type": "markdown",
   "id": "bdc10ecd-97fc-4a05-a91e-674dffe7008e",
   "metadata": {
    "collapsed": false,
    "id": "Yp6-26YL6-Rq"
   },
   "source": [
    "# Installing and importing libraries\n",
    "\n",
    "If running this tutorial locally, see the [readme](https://github.com/jcbayley/lisamlworkshop/blob/main/README.md) for installation instructions."
   ]
  },
  {
   "cell_type": "code",
   "execution_count": 1,
   "id": "f8a5e15a-ce1a-4c95-ab0a-2d7bc237a257",
   "metadata": {
    "colab": {
     "base_uri": "https://localhost:8080/",
     "height": 1000
    },
    "collapsed": false,
    "id": "A06JOnOs6-Rq",
    "outputId": "b5f986eb-ddee-480a-a1a5-118fb90fa937"
   },
   "outputs": [],
   "source": [
    "# Install packages if not already installed\n",
    "try:\n",
    "    import bilby\n",
    "except ImportError:\n",
    "    !pip install bilby[gw]\n",
    "    !pip install pytdi\n",
    "    !pip install scikit-learn\n",
    "    !pip install scipy\n",
    "    !pip install lisagwresponse\n",
    "    # Kill the kernel so the list of packages updates\n",
    "    import os\n",
    "    os.kill(os.getpid(), 9)"
   ]
  },
  {
   "cell_type": "markdown",
   "id": "eb4a3bb9-ae15-4928-a7b2-c93cd730d13d",
   "metadata": {
    "collapsed": false,
    "id": "tpntUcol6-Rr"
   },
   "source": [
    "We have to restart the kernel after installing the packages. The previous cell will kill the kernel, so you now need to rerun the cells."
   ]
  },
  {
   "cell_type": "code",
   "execution_count": null,
   "id": "469bbe28-f6e8-48dc-8f53-f6568f24814a",
   "metadata": {
    "collapsed": false,
    "id": "5Z7mcbgi6-Rs"
   },
   "outputs": [],
   "source": [
    "import os\n",
    "import numpy as np\n",
    "import scipy\n",
    "import scipy.signal\n",
    "import matplotlib.pyplot as plt\n",
    "import h5py\n",
    "import pickle\n",
    "\n",
    "import torch\n",
    "import bilby\n",
    "import pytdi.michelson\n",
    "import lisagwresponse\n",
    "from sklearn import metrics\n",
    "import seaborn as sns\n",
    "\n",
    "sns.set_context(\"notebook\")\n",
    "sns.set_palette(\"colorblind\")\n"
   ]
  },
  {
   "cell_type": "markdown",
   "id": "4dc87f16-be68-4cc9-b8e4-bcc68a5224ec",
   "metadata": {
    "collapsed": false,
    "id": "Bv87RAOw6-Rs"
   },
   "source": [
    "## Downloading the data\n",
    "\n"
   ]
  },
  {
   "cell_type": "code",
   "execution_count": null,
   "id": "b3c48902-b3ac-452c-b659-8a042273946c",
   "metadata": {
    "collapsed": false,
    "id": "nPOME3NW6-Rs"
   },
   "outputs": [],
   "source": [
    "def fetch_data(url, filename):\n",
    "    \"\"\"Fetch data from a url and save it to given file\"\"\"\n",
    "    if not os.path.isfile(filename):\n",
    "        import urllib\n",
    "        urllib.request.urlretrieve(url, filename=filename)\n",
    "    else:\n",
    "        print(\"File already exists!\")"
   ]
  },
  {
   "cell_type": "code",
   "execution_count": null,
   "id": "721969cf-1c2f-4033-94ef-b8d919911edb",
   "metadata": {
    "collapsed": false,
    "id": "VrHdDmXr6-Rt"
   },
   "outputs": [],
   "source": [
    "os.makedirs(\"data\", exist_ok=True)\n",
    "orbits_url = \"https://github.com/jcbayley/lisamlworkshop/raw/main/data/esa-orbits-1-0-2.h5\"\n",
    "orbits_file = \"data/esa-orbits-1-0-2.h5\"\n",
    "fetch_data(orbits_url, orbits_file)\n",
    "# Now for the training data\n",
    "data_url = \"https://github.com/jcbayley/lisamlworkshop/raw/main/data/sig_noise_data_0_2000.h5\"\n",
    "data_file = \"data/sig_noise_data.h5\"\n",
    "fetch_data(data_url, data_file)\n"
   ]
  },
  {
   "cell_type": "markdown",
   "id": "8d0bd2c1-c29a-449f-ae6a-cf76c365720b",
   "metadata": {
    "collapsed": false,
    "id": "9I1lhg9-6-Rt"
   },
   "source": [
    "# Matched Filter"
   ]
  },
  {
   "cell_type": "markdown",
   "id": "e1f332c2-2337-4fbd-bd4b-320b56d2f7d0",
   "metadata": {
    "collapsed": false,
    "id": "QZ7I9WYT6-Rt"
   },
   "source": [
    "In this section we will look at how to generate a waveform and we will use the bilby package, which is primarily a parameter estimation library, however has some useful data generation tools."
   ]
  },
  {
   "cell_type": "markdown",
   "id": "23a1d905-1ac1-4391-8cf4-4bfe5a9210da",
   "metadata": {
    "collapsed": false,
    "id": "Bx37AiHA6-Rt"
   },
   "source": [
    "Below is a function which uses the IMRPhenomD waveform generator, which generates binary black hole waveforms without precession, higher modes or individual component spins, to create the two polarisation (plus and cross) of a gravitational wave waveform.\n"
   ]
  },
  {
   "cell_type": "code",
   "execution_count": null,
   "id": "0ce51a02-698f-4723-b394-ca820b1267b5",
   "metadata": {
    "collapsed": false,
    "id": "iR1lg5c96-Rt"
   },
   "outputs": [],
   "source": [
    "def create_polarisations(injection_parameters, sampling_frequency, start_time, duration, minimum_frequency=1e-6):\n",
    "    \"\"\" Generates the polarisations of signal.\n",
    "    \"\"\"\n",
    "    # Fixed arguments passed into the source model \n",
    "    waveform_arguments = dict(waveform_approximant=\"IMRPhenomD\",\n",
    "                              reference_frequency=1e-3, \n",
    "                              minimum_frequency=minimum_frequency,\n",
    "                              maximum_frequency=sampling_frequency/2.0)\n",
    "\n",
    "    # Create the waveform_generator using a LAL BinaryBlackHole source function\n",
    "    waveform_generator = bilby.gw.WaveformGenerator(\n",
    "        duration=duration, sampling_frequency=sampling_frequency,\n",
    "        frequency_domain_source_model=bilby.gw.source.lal_binary_black_hole,\n",
    "        parameter_conversion=bilby.gw.conversion.convert_to_lal_binary_black_hole_parameters,\n",
    "        waveform_arguments=waveform_arguments,\n",
    "        start_time=start_time)\n",
    "    \n",
    "    # extract waveform from bilby\n",
    "    waveform_generator.parameters = injection_parameters\n",
    "    # get the time domain strain\n",
    "    time_signal = waveform_generator.time_domain_strain()\n",
    "\n",
    "    return time_signal"
   ]
  },
  {
   "cell_type": "code",
   "execution_count": null,
   "id": "46fce18a-825a-4c31-af2f-e6ee37f5a99a",
   "metadata": {
    "collapsed": false,
    "id": "JKZ25Y2q6-Rt"
   },
   "outputs": [],
   "source": [
    "injection_parameters = {\n",
    "    \"mass_1\": 1e6,              # solar masses\n",
    "    \"mass_2\": 1e6,              # solar masses\n",
    "    \"chi_1\": 0,                 # unitless effective spin \n",
    "    \"chi_2\": 0,\n",
    "    \"luminosity_distance\": 2e3, # Mpc\n",
    "    \"theta_jn\": 0,              # \n",
    "    \"phase\": 0,\n",
    "    \"polarisation\": 0,\n",
    "    \"lon\": 0,                   # radians\n",
    "    \"lat\":0                     # radians\n",
    "}"
   ]
  },
  {
   "cell_type": "code",
   "execution_count": null,
   "id": "d0cd87d0-abe3-4f9f-b6b6-0641209e6fc5",
   "metadata": {
    "collapsed": false,
    "id": "mwuIdzEC6-Ru"
   },
   "outputs": [],
   "source": [
    "sampling_frequency = 0.001 # low sampling frequency to keep number of samples low\n",
    "waveform_start_time = 22160.0 # start time is just after the orbits file starts\n",
    "waveform_duration = 10000000 # set the duration of the waveform \n",
    "data_duration = waveform_duration # can set the data duration to be a smaller section of waveform if necessary\n",
    "data_start_time = waveform_start_time + waveform_duration - data_duration + 0.25*data_duration # place the data start time of reponse such that the merger in 0.25 seconds before the end"
   ]
  },
  {
   "cell_type": "code",
   "execution_count": null,
   "id": "c37a50c6-64d3-4b04-92ea-925334b92105",
   "metadata": {
    "collapsed": false,
    "id": "rGGACR6c6-Ru"
   },
   "outputs": [],
   "source": [
    "# compute the array of times for the waveform and data \n",
    "waveform_times = np.arange(waveform_start_time, waveform_start_time + waveform_duration, 1./sampling_frequency)\n",
    "data_times = np.arange(data_start_time, data_start_time + data_duration, 1./sampling_frequency)"
   ]
  },
  {
   "cell_type": "code",
   "execution_count": null,
   "id": "dfc7cadc-8541-431d-90c4-909b2f7ab332",
   "metadata": {
    "colab": {
     "base_uri": "https://localhost:8080/"
    },
    "collapsed": false,
    "id": "FOHNLYm96-Ru",
    "outputId": "045c37a6-3a7a-46f7-88a2-f70857c22797"
   },
   "outputs": [],
   "source": [
    "# use bibly to create some IMRPhenomD waveforms\n",
    "pol = create_polarisations(injection_parameters, sampling_frequency, waveform_start_time, waveform_duration, minimum_frequency=8e-5)"
   ]
  },
  {
   "cell_type": "code",
   "execution_count": null,
   "id": "3fb3c28b-0878-460c-b7ae-b7adb8121d1f",
   "metadata": {
    "colab": {
     "base_uri": "https://localhost:8080/",
     "height": 296
    },
    "collapsed": false,
    "id": "bjiwv9ec6-Ru",
    "outputId": "84029681-b50b-4f98-8cc6-091d112149aa"
   },
   "outputs": [],
   "source": [
    "fig, ax = plt.subplots()\n",
    "ax.plot(waveform_times, pol[\"plus\"], label = \"Plus polarisation\")\n",
    "ax.plot(waveform_times, pol[\"cross\"], label = \"Cross polarisation\")\n",
    "ax.set_xlabel(\"Time [s]\")\n",
    "ax.set_ylabel(\"GW strain\")\n",
    "ax.legend()\n",
    "plt.show()"
   ]
  },
  {
   "cell_type": "code",
   "execution_count": null,
   "id": "83ca412f-1c6d-4d86-8d91-559a0699bd60",
   "metadata": {
    "collapsed": false,
    "id": "4LK6iLno6-Ru"
   },
   "outputs": [],
   "source": [
    "# generate the lisa response at some times (data_times) given some waveform polarisations and sky position and orbits\n",
    "data = lisagwresponse.ReadStrain(waveform_times,                          # times at which the polarisations were generated\n",
    "                                pol[\"plus\"],                              # plus polarisations\n",
    "                                pol[\"cross\"],                             # cross polarisations\n",
    "                                gw_beta=injection_parameters[\"lat\"],      # latitude of source (ecliptic frame)\n",
    "                                gw_lambda=injection_parameters[\"lon\"],    # longitude in source\n",
    "                                orbits=orbits_file,                       # orbits file for lisa\n",
    "                                size = data_duration*sampling_frequency,  # number of samples in output responses\n",
    "                                dt = 1./sampling_frequency,               # separation of response samples\n",
    "                                t0 = data_start_time)                     # start time of the response outputs"
   ]
  },
  {
   "cell_type": "code",
   "execution_count": null,
   "id": "e46d469d-8e1e-40a3-8d47-115d753451c6",
   "metadata": {
    "collapsed": false,
    "id": "A2w_kaeM6-Rv"
   },
   "outputs": [],
   "source": [
    "# compute the lisa response from one of the links at the specified times\n",
    "resp = data.compute_gw_response(data_times, data.LINKS)"
   ]
  },
  {
   "cell_type": "code",
   "execution_count": null,
   "id": "549ffd79-5645-4ee6-9994-a01c61442d3d",
   "metadata": {
    "colab": {
     "base_uri": "https://localhost:8080/",
     "height": 314
    },
    "collapsed": false,
    "id": "P7Mbxs2Q6-Rv",
    "outputId": "86884b3d-8272-4f72-a887-3f0cdc615b0f"
   },
   "outputs": [],
   "source": [
    "fig, ax = plt.subplots()\n",
    "ax.plot(data_times, resp[:,0])\n",
    "ax.set_xlabel(\"Time [s]\")\n",
    "plt.show()"
   ]
  },
  {
   "cell_type": "code",
   "execution_count": null,
   "id": "484d6700-b503-4595-9036-1b2d77fc5f81",
   "metadata": {
    "collapsed": false,
    "id": "SczjN4jo6-Rv"
   },
   "outputs": [],
   "source": [
    "# to use pytdi with the outputs of lisagwresponse one needs to write the response to a file\n",
    "data.write(path=f\"./test_gw_0.h5\",mode=\"w\")"
   ]
  },
  {
   "cell_type": "code",
   "execution_count": null,
   "id": "d050517b-de2a-4f10-8b18-c57d44672f5f",
   "metadata": {
    "collapsed": false,
    "id": "m_6F7WB26-Rv"
   },
   "outputs": [],
   "source": [
    "# initialise the tdi class with the response and orbits files\n",
    "tdi_data = pytdi.Data.from_gws(\"./test_gw_0.h5\", orbits=\"./data/esa-orbits-1-0-2.h5\", skipped=200)"
   ]
  },
  {
   "cell_type": "code",
   "execution_count": null,
   "id": "82bb84e9-b16e-4739-bad3-112e13772287",
   "metadata": {
    "collapsed": false,
    "id": "C7KRSKDN6-Rv"
   },
   "outputs": [],
   "source": [
    "# compute the X tdi\n",
    "X2 = pytdi.michelson.X2.build(**tdi_data.args)\n",
    "X2_signal = X2(tdi_data.measurements)"
   ]
  },
  {
   "cell_type": "code",
   "execution_count": null,
   "id": "c3719baa-ef40-49aa-ae8b-017b3acf0ba2",
   "metadata": {
    "colab": {
     "base_uri": "https://localhost:8080/",
     "height": 314
    },
    "collapsed": false,
    "id": "TMjoWJcP6-Rv",
    "outputId": "4f9315f1-6e8e-4a5b-83aa-223ec84a030f"
   },
   "outputs": [],
   "source": [
    "fig, ax = plt.subplots()\n",
    "ax.plot(data_times[100:-100], X2_signal, label=\"TDI - X\")\n",
    "ax.set_xlabel(\"Time [s]\")\n",
    "ax.legend()\n",
    "plt.show()"
   ]
  },
  {
   "cell_type": "code",
   "execution_count": null,
   "id": "d4a320dd-5ca3-49e9-b3f3-1a5661706ba3",
   "metadata": {
    "collapsed": false,
    "id": "Q4BsH_oH6-Rv"
   },
   "outputs": [],
   "source": [
    "psd_mag = (2e-21)**2       # set a fixed psd magnitude\n",
    "Nt = len(X2_signal)        # define length of time series\n",
    "dt = 1./sampling_frequency # sample separation\n",
    "resp_duration = Nt*dt      # time duration \n",
    "df = 1./resp_duration      # frequency separation\n"
   ]
  },
  {
   "cell_type": "code",
   "execution_count": null,
   "id": "9006c3ff-a29d-4acd-8c0d-ec46d9b8fcbd",
   "metadata": {
    "collapsed": false,
    "id": "1VgLmbCc6-Rv"
   },
   "outputs": [],
   "source": [
    "# create some noise based on psd \n",
    "sigma = np.sqrt(Nt*psd_mag/(2*dt)) # define frequency domain standard deviation for discrete fft\n",
    "noise_fs = 0.5*sigma*(np.random.normal(0,1,size=Nt//2 + 1) + 1j*np.random.normal(0,1,size=Nt//2 + 1)) # generate complex Gaussian noise\n",
    "noise_ts = np.fft.irfft(noise_fs) # inverse fft to get time series\n",
    "data_X2 = X2_signal + noise_ts # add signal to noise"
   ]
  },
  {
   "cell_type": "code",
   "execution_count": null,
   "id": "937ea11e-3e95-4778-8aba-d63a158260f8",
   "metadata": {
    "colab": {
     "base_uri": "https://localhost:8080/",
     "height": 296
    },
    "collapsed": false,
    "id": "agz34CTe6-Rw",
    "outputId": "81bc28b3-f023-42a9-82a4-7fb1a5e1e644"
   },
   "outputs": [],
   "source": [
    "fig, ax = plt.subplots()\n",
    "ax.plot(data_times[100:-100], data_X2, label=\"noisy data\")\n",
    "ax.plot(data_times[100:-100], X2_signal, alpha=0.5, label=\"signal only\")\n",
    "ax.legend()\n",
    "ax.set_xlabel(\"Time [s]\")\n",
    "plt.show()"
   ]
  },
  {
   "cell_type": "code",
   "execution_count": null,
   "id": "c46e409b-9a35-4525-8a19-d4fe97382b72",
   "metadata": {
    "collapsed": false,
    "id": "R4tmIFZ66-Rw"
   },
   "outputs": [],
   "source": [
    "# generate  time frequency spectrogram of the noisy signal\n",
    "spect = scipy.signal.spectrogram(data_X2, fs=sampling_frequency, nperseg=128, noverlap=32)"
   ]
  },
  {
   "cell_type": "code",
   "execution_count": null,
   "id": "c3eb5ae0-946c-44d3-9127-33776dd40615",
   "metadata": {
    "colab": {
     "base_uri": "https://localhost:8080/",
     "height": 266
    },
    "collapsed": false,
    "id": "gDNjbe9P6-Rw",
    "outputId": "b4776578-cd18-4cd9-a0f6-4c55fd8a6219"
   },
   "outputs": [],
   "source": [
    "fig, ax = plt.subplots()\n",
    "ax.imshow(spect[2], origin=\"lower\")\n",
    "plt.show()"
   ]
  },
  {
   "cell_type": "markdown",
   "id": "bf734845-4681-4c09-a628-61aaaf3cd0cd",
   "metadata": {
    "collapsed": false,
    "id": "xwsN4fz66-Rw"
   },
   "source": [
    "Compute the matched filter we can use\n",
    "$$ (s | h) = 4 {\\rm Re} \\int_{0}^{\\infty} \\frac{\\tilde{s}(f) \\tilde{h}^*(f)}{S_{n(f)}}df $$\n",
    "The matched filter is then defined as \n",
    "$$ \\rho = \\frac{(s|h)}{\\sqrt{(h|h)}} $$\n",
    "Where $\\tilde{s}(f)$ is the Fourier transformed detector data, $\\tilde{h}^*(f)$ is the complex conjugate of the fourier transformed waveform and $S_{n}(f)$ is the noise power spectral density of the detector.\n",
    "We can find the SNR timeseries using\n",
    "$$ \\rho(t) = \\frac{4}{\\sqrt{(h|h)}} {\\rm Re} \\int_{0}^{\\infty} \\frac{\\tilde{s}(f) \\tilde{h}^*(f)}{S_{n}(f)} e^{2\\pi i f t}df$$"
   ]
  },
  {
   "cell_type": "markdown",
   "id": "99f40de4-2f91-4d58-888c-163db528cb82",
   "metadata": {
    "collapsed": false,
    "id": "G42bBeN_6-Rw"
   },
   "source": [
    "We can implement this as below"
   ]
  },
  {
   "cell_type": "code",
   "execution_count": null,
   "id": "46b5873e-0f20-45cc-b4dc-047a5674657f",
   "metadata": {
    "collapsed": false,
    "id": "ZxX0O1-V6-Rw"
   },
   "outputs": [],
   "source": [
    "def compute_snr_timeseries(filter, data, psd, dt):\n",
    "    # define come constants\n",
    "    Nt = len(filter)\n",
    "    data_duration = Nt*dt\n",
    "\n",
    "    # compute data ffts\n",
    "    detector_fft = np.fft.rfft(data) * dt\n",
    "    waveform_fft = np.fft.rfft(filter) * dt\n",
    "    \n",
    "    #compute complex conjugate\n",
    "    finner =  np.conj(waveform_fft) * detector_fft / psd\n",
    "    #compute the optimal SNR\n",
    "    osnr_sum = 4 / data_duration * np.sum(np.conj(waveform_fft) * waveform_fft / psd)\n",
    "    # compute matched filter SNR for optimal waveform\n",
    "    snr_sum = 4 / data_duration * np.sum(finner) / np.sqrt(osnr_sum)\n",
    "\n",
    "    # compute the SNR timeseries\n",
    "    snr_time = 4 / data_duration * 0.5*Nt * np.fft.irfft(finner)/ np.sqrt(osnr_sum)\n",
    "\n",
    "    # roll the timeseries so template times match up\n",
    "    return np.roll(snr_time, -int(0.25*data_duration*sampling_frequency)), snr_sum, np.sqrt(osnr_sum)"
   ]
  },
  {
   "cell_type": "code",
   "execution_count": null,
   "id": "ea22691c-125e-4fd0-a00b-79b2944249b4",
   "metadata": {
    "colab": {
     "base_uri": "https://localhost:8080/"
    },
    "collapsed": false,
    "id": "7nM_ChsB6-Rw",
    "outputId": "d01bd1be-eff7-495e-a3b8-29f8358cd9ee"
   },
   "outputs": [],
   "source": [
    "snr_time, matched_snr, opt_snr = compute_snr_timeseries(X2_signal, data_X2, psd_mag, dt)\n",
    "print(\"Matched filter SNR: \", np.real(matched_snr))\n",
    "print(\"Optimal SNR : \", np.real(opt_snr))"
   ]
  },
  {
   "cell_type": "code",
   "execution_count": null,
   "id": "f4b79cb2-5706-45b1-b387-36ea1bd90780",
   "metadata": {
    "colab": {
     "base_uri": "https://localhost:8080/",
     "height": 285
    },
    "collapsed": false,
    "id": "E9FR2eMp6-Rw",
    "outputId": "ff41544b-d7d9-4b28-dfd8-77e7ecc51fa9"
   },
   "outputs": [],
   "source": [
    "fig, ax = plt.subplots()\n",
    "ax.plot(data_times[100:-100], abs(snr_time))\n",
    "#ax.plot(data_times[100:-100], abs(snr2.data), alpha = 0.5)\n",
    "ax.set_xlabel(\"Time\")\n",
    "ax.set_ylabel(\"SNR\")\n",
    "plt.show()"
   ]
  },
  {
   "cell_type": "markdown",
   "id": "3768a400-e51c-4ebd-a045-47fb74cc1c04",
   "metadata": {
    "collapsed": false,
    "id": "a-Isgyx-6-Rx"
   },
   "source": [
    "# Machine Learning approach"
   ]
  },
  {
   "cell_type": "markdown",
   "id": "7f3e4847-fc20-4566-ad15-8da05c465844",
   "metadata": {
    "collapsed": false,
    "id": "K2BT0UAn6-Rx"
   },
   "source": [
    "## Data\n",
    "\n",
    "The data consists of time series which will be labelled `x` and labels (no signal/signal) labelled `y`. The dimensions of the time series array will be:\n",
    "`[number of time series, tdi channels, number of samples]`\n",
    "We will change the dataset to match the default of torch which is to put the channels last to that:\n",
    "`[number of time series, number of samples, tdi channels]`\n",
    "\n",
    "The number of samples with depend on the duration and sampling rate, in this example the data is one \"1 month\" and sampled at 1Hz.\n"
   ]
  },
  {
   "cell_type": "code",
   "execution_count": null,
   "id": "94e8ece3-114b-4e08-b7d4-a4d7f6f9d226",
   "metadata": {
    "collapsed": false,
    "id": "-4s0MZdo6-Rx"
   },
   "outputs": [],
   "source": [
    "def load_data(data_file):\n",
    "    \"\"\"Load the data\"\"\"\n",
    "    # load the data\n",
    "    with h5py.File(data_file, 'r') as f:\n",
    "        x = np.array(f[\"whitened_data\"])\n",
    "        y = np.array(f[\"parameters\"])\n",
    "    return x,y"
   ]
  },
  {
   "cell_type": "markdown",
   "id": "4e32a6bb-2ed6-44b4-aa90-2e5a6242bfd5",
   "metadata": {
    "collapsed": false,
    "id": "3tRWqnEk6-Rx"
   },
   "source": [
    "| var | |\n",
    "|----|----|\n",
    "|x | data|\n",
    "|y | parameters|"
   ]
  },
  {
   "cell_type": "code",
   "execution_count": null,
   "id": "d3a2bf8f-b0e1-4cdd-8ba5-7a064b2a3501",
   "metadata": {
    "collapsed": false,
    "id": "pzRHx1GQ6-Rx"
   },
   "outputs": [],
   "source": [
    "x, y = load_data(data_file)"
   ]
  },
  {
   "cell_type": "code",
   "execution_count": null,
   "id": "945ab5c9-f027-4c65-83ba-c9e6200b026b",
   "metadata": {
    "colab": {
     "base_uri": "https://localhost:8080/"
    },
    "collapsed": false,
    "id": "QBwhRpVP6-Rx",
    "outputId": "04442e4e-e4b0-4788-e36b-9ba8988e43d0"
   },
   "outputs": [],
   "source": [
    "np.shape(x), np.shape(y)"
   ]
  },
  {
   "cell_type": "markdown",
   "id": "c74bed2e-f79f-432c-8bfe-d17babd83990",
   "metadata": {
    "collapsed": false,
    "id": "N6NZbG6W6-Rx"
   },
   "source": [
    "Looking at the parameters we can see that the data is not mixed but all the signals are first, then noise."
   ]
  },
  {
   "cell_type": "code",
   "execution_count": null,
   "id": "b1cd07b4-3ede-4048-a4c7-b8fe4fc099a1",
   "metadata": {
    "colab": {
     "base_uri": "https://localhost:8080/"
    },
    "collapsed": false,
    "id": "O8PhleN56-Rx",
    "outputId": "3d31c5d3-b75d-4a73-d4f8-83fae3b33c54"
   },
   "outputs": [],
   "source": [
    "y[:,0]"
   ]
  },
  {
   "cell_type": "markdown",
   "id": "87d88da2-a4dc-4a12-bca5-20da21fdedb1",
   "metadata": {
    "collapsed": false,
    "id": "-cT9e9dU6-Rx"
   },
   "source": [
    "It is good to mix the data up first, otherwise you can run into problems when training. "
   ]
  },
  {
   "cell_type": "code",
   "execution_count": null,
   "id": "9f56958d-7e53-43a0-beb7-899db4c93ff2",
   "metadata": {
    "collapsed": false,
    "id": "JodPK3zN6-Rx"
   },
   "outputs": [],
   "source": [
    "randidx = np.arange(len(x))\n",
    "np.random.shuffle(randidx)\n",
    "\n",
    "x = x[randidx]\n",
    "y = y[randidx]"
   ]
  },
  {
   "cell_type": "code",
   "execution_count": null,
   "id": "6d72aa17-4712-49b4-891e-5683b34a29c4",
   "metadata": {
    "colab": {
     "base_uri": "https://localhost:8080/"
    },
    "collapsed": false,
    "id": "pSPObGk96-Ry",
    "outputId": "87b456fb-cb3b-4d02-832c-56f46573298e"
   },
   "outputs": [],
   "source": [
    "y[:,0]"
   ]
  },
  {
   "cell_type": "markdown",
   "id": "a007888f-cadc-4469-a285-bb95ef1921fb",
   "metadata": {
    "collapsed": false,
    "id": "bS5em6sg6-Ry"
   },
   "source": [
    "Once the data is loaded plot one of the time series.\n",
    "\n",
    "As mentioned before the sampling rate `fs` is 1 mHz and the duration is 1024000 seconds (~11days)."
   ]
  },
  {
   "cell_type": "code",
   "execution_count": null,
   "id": "836cf07a-1e6b-44c0-b43d-cb6827e5f639",
   "metadata": {
    "collapsed": false,
    "id": "hzAIx3rW6-Ry"
   },
   "outputs": [],
   "source": [
    "fs = 0.001                          # sampling frequency\n",
    "duration = 1024000                  # duration in seconds\n",
    "t = np.arange(0, duration, 1. / fs) # array of time steps"
   ]
  },
  {
   "cell_type": "code",
   "execution_count": null,
   "id": "75cbff09-27a7-4aa5-8675-0e62fa869bd9",
   "metadata": {
    "colab": {
     "base_uri": "https://localhost:8080/",
     "height": 394
    },
    "collapsed": false,
    "id": "q5XsH2Uv6-Ry",
    "outputId": "5291b487-a3fe-41a5-c73f-cc7a2beb68ec"
   },
   "outputs": [],
   "source": [
    "fig, ax = plt.subplots(nrows=2,figsize=(8,6))\n",
    "ax[0].plot(t, x[np.where(y[:,0]==1)[0][8], 0])\n",
    "ax[1].plot(t, x[np.where(y[:,0]==0)[0][0], 0])\n",
    "for i in range(2):\n",
    "    ax[i].set_xlabel(\"Time (s)\")\n",
    "    ax[i].set_ylabel(\"Whitened strain\")\n",
    "plt.show()"
   ]
  },
  {
   "cell_type": "markdown",
   "id": "18e5c42b-e2d0-4d70-a47f-427d234f35ae",
   "metadata": {
    "collapsed": false,
    "id": "muuYLDq26-Ry"
   },
   "source": [
    "You will notice that the data is scaled to have values around 1 (in this case it is just Gaussian noise with a standard deviation of 1).\n",
    "\n",
    "This is an important step when training any neural network - the data preparation.\n",
    "\n",
    "The outputs after TDI are very small (~$10^{-22}$), therefore to rescale them, we whiten the data using a projected LISA power spectral density (PSD). In this case it is the same PSD that we used to generate the data, however in practice this is usually measured from the data. \n",
    "For this method of machine learning it is not as important that the measured PSD used for whitening is an accurate representation of the real PSD, as long as we perform the same data preparation beforehand and use realistic data the network should learn the underlying distribution."
   ]
  },
  {
   "cell_type": "markdown",
   "id": "de43a561-66e9-4ce6-b2b1-08c039c568f4",
   "metadata": {
    "collapsed": false,
    "id": "rOjID7X26-Ry"
   },
   "source": [
    "### Labels\n",
    "\n",
    "In their original forms the labels are simply a list of zeros and ones with zero corresponding to no signal and one correponding to signal. We want the trained neural network to predict these labels as accurately as possible.\n"
   ]
  },
  {
   "cell_type": "markdown",
   "id": "d655a180-2ac8-4121-b663-fb5016e7cbb9",
   "metadata": {
    "collapsed": false,
    "id": "nf7XQ1q_6-Ry"
   },
   "source": [
    "In this dataset we also include some of the parameters associated with the MBHB, The NaN values here are the empty signal parameter slots for the noise only data sets."
   ]
  },
  {
   "cell_type": "code",
   "execution_count": null,
   "id": "d5152e70-a7a6-40c0-905f-d53a9d0ff270",
   "metadata": {
    "colab": {
     "base_uri": "https://localhost:8080/"
    },
    "collapsed": false,
    "id": "FrB1SLdd6-Ry",
    "outputId": "660a57e0-8589-47e2-ed27-c3d14d279568"
   },
   "outputs": [],
   "source": [
    "print(f'Label vector: {y[:3]}')"
   ]
  },
  {
   "cell_type": "markdown",
   "id": "2f5c9586-508b-42a6-89ee-779c681a6b4d",
   "metadata": {
    "collapsed": false,
    "id": "EPiGrlcp6-Rz"
   },
   "source": [
    "### Training/testing split\n",
    "\n",
    "The data is generally split into three components training, validation and test data. The training data is used to train the network and update the weights, the validation data is used to test the outputs of the network during training (the weights are not updated with this data). Finally the test data is used at the end of training to test the performance of the network.\n",
    "\n",
    "In this case we reserve 10% of the data for validation and 10% for test. This can be adjusted as you wish, in general the more training data the better."
   ]
  },
  {
   "cell_type": "code",
   "execution_count": null,
   "id": "bd6af81b-cc38-4ca1-853f-e9feb5c79fd3",
   "metadata": {
    "collapsed": false,
    "id": "tH7lxtsU6-Rz"
   },
   "outputs": [],
   "source": [
    "n_train = int(0.8 * x.shape[0])\n",
    "n_val = int(0.1 * x.shape[0])\n",
    "x_train, x_val, x_test = x[:n_train], x[n_train:n_train+n_val], x[n_train:n_train+2*n_val]\n",
    "y_train, y_val, y_test = y[:n_train, 0], y[n_train:n_train+n_val, 0], y[n_train:n_train+2*n_val, 0]"
   ]
  },
  {
   "cell_type": "markdown",
   "id": "f601edf1-c8f3-42bb-a4f7-4d14540c0b0f",
   "metadata": {
    "collapsed": false,
    "id": "4ZBB9DFK6-Rz"
   },
   "source": [
    "\n",
    "## General parameters\n",
    "\n",
    "We need to define some general parameters for networks we're going to use:\n",
    "\n",
    "* Batch size: refers to the number of images/samples passed to the network in a single instance of training\n",
    "* Input shape: defines the shape of the input to the network, the batch size is ignored so we only specify the number of channels(detectors) and the length of the time series.\n",
    "* Epochs: refers to the number of times the network will train on the complete dataset\n",
    "\n"
   ]
  },
  {
   "cell_type": "code",
   "execution_count": null,
   "id": "ab8178f0-8f8b-476d-9a05-870a0d7f046a",
   "metadata": {
    "collapsed": false,
    "id": "1eLHOOIc6-Rz"
   },
   "outputs": [],
   "source": [
    "batch_size = 128            # number of samples in each batch of training data\n",
    "input_shape = [3, 1024]     # shape of the data\n",
    "n_epochs = 20               # number of epochs to train for"
   ]
  },
  {
   "cell_type": "markdown",
   "id": "bb0ed55a-8a55-4911-adb3-1f709c70cafe",
   "metadata": {
    "collapsed": false,
    "id": "YlU_8KFA6-Rz"
   },
   "source": [
    "## The model\n",
    "\n",
    "We now need to construct the neural network that we're going to training to classify the data.\n",
    "\n",
    "We start by defining the type of pytorch model. In this case we're using `Sequential`. When using this type of model any layers we add are assumed to directly follow from the previous one. \n",
    "\n",
    "In this case we're going to use a 1D covolutional layer (`Conv1d`) layer. We need to specify the number of neurons, the size of the filter (or kernel), the activation function and the shape of the input. When running this it is a good idea to check if the channels come first or last, in this case we have channels first. i.e. `[batch_size, n_channels, n_samples]` rather than `[batch_size, n_samples, n_channels]`.\n",
    "\n",
    "We then add 1D Max-pooling which will reduce the dimensions of data being passed to the next layer by taking the maximum value in blocks of a given size (in this case 2).\n",
    "\n",
    "We the repeat the convolution + max-pooling combination again.\n",
    "\n",
    "This is followed by a `Linear` layer (or fully-connected or Dense (Keras)), which requires a flat input so we also add a flattening layer. For dense layer we only need to specifiy the number of neurons and the activation function. This flattens the inputs from `[batch_size, n_channels, n_samples]` to `[batch_size, n_samples]`.\n",
    "\n",
    "Finally the output layer. Since this is a classifcation task we want the network to predict one of the two classes, so we use two neurons. As for the activation function, we use a softmax function since this ensures the sum of all the output is one, so they can be thought of as a sort of probability."
   ]
  },
  {
   "cell_type": "markdown",
   "id": "b6b80307-897f-4088-94f6-e5c92dd37ef0",
   "metadata": {
    "collapsed": false,
    "id": "1wmcaFbB6-Rz"
   },
   "source": [
    "You can print what GPUs are available"
   ]
  },
  {
   "cell_type": "code",
   "execution_count": null,
   "id": "8ca5e1fa-a05c-4c8f-9a99-170f38621fc9",
   "metadata": {
    "colab": {
     "base_uri": "https://localhost:8080/"
    },
    "collapsed": false,
    "id": "l9RIcG-q6-Rz",
    "outputId": "acdec2ac-e0c9-4755-f214-399fe631c2da"
   },
   "outputs": [],
   "source": [
    "print(torch.cuda.device_count())"
   ]
  },
  {
   "cell_type": "markdown",
   "id": "7e776c33-7814-456a-8a1c-01451ad435a9",
   "metadata": {
    "collapsed": false,
    "id": "1n9aDwzi6-Rz"
   },
   "source": [
    "We can then select the GPU that we want to use"
   ]
  },
  {
   "cell_type": "code",
   "execution_count": null,
   "id": "38f8a7d7-478a-4f21-a127-ae0f9db9978c",
   "metadata": {
    "colab": {
     "base_uri": "https://localhost:8080/"
    },
    "collapsed": false,
    "id": "pdqrgO276-R0",
    "outputId": "d55d31ba-fd9d-4fe3-f4fe-549e7c1d6aae"
   },
   "outputs": [],
   "source": [
    "device = torch.device('cuda:0' if torch.cuda.is_available() else 'cpu')\n",
    "device"
   ]
  },
  {
   "cell_type": "code",
   "execution_count": null,
   "id": "707e27b8-ea9b-4da7-98dd-f48b90eccd82",
   "metadata": {
    "colab": {
     "base_uri": "https://localhost:8080/"
    },
    "collapsed": false,
    "id": "yAr55_nY6-R0",
    "outputId": "c98d996b-bd24-481f-af32-def77638c242"
   },
   "outputs": [],
   "source": [
    "model = torch.nn.Sequential(\n",
    "          torch.nn.Conv1d(3,16,8,padding=\"same\"), # [input channels, number of filters, filter size]\n",
    "          torch.nn.ReLU(),\n",
    "          torch.nn.MaxPool1d(2),                  \n",
    "          torch.nn.Conv1d(16,64,8,padding=\"same\"),\n",
    "          torch.nn.ReLU(),\n",
    "          torch.nn.MaxPool1d(2),\n",
    "          torch.nn.Conv1d(64,8,8,padding=\"same\"),\n",
    "          torch.nn.ReLU(),\n",
    "          torch.nn.MaxPool1d(2),\n",
    "          torch.nn.Flatten(),\n",
    "          torch.nn.LazyLinear(512), # LazyLinear automatically computes the input size from flattened convolutions\n",
    "          torch.nn.ReLU(),\n",
    "          torch.nn.LazyLinear(128),\n",
    "          torch.nn.ReLU(),\n",
    "          torch.nn.LazyLinear(2)\n",
    "        ).to(device)\n"
   ]
  },
  {
   "cell_type": "markdown",
   "id": "d6159b8d-ae0b-4966-976a-c7634338038d",
   "metadata": {
    "collapsed": false,
    "id": "aHxU6P-N6-R0"
   },
   "source": [
    "### Loss and optimiser\n",
    "\n",
    "It's at this stage that we specify the loss function to use and what optimiser to use.\n",
    "\n",
    "The **optimiser** is the algorithm that is used to explore the parameter space of the network weights. In this example we're going to use `Adam` with a learning rate of 0.001 and the other parameters left as their default values. There a various different optimisers to choose from but Adam has proven to be realiable for a wide variety of problems and is a good place to start.\n",
    "\n",
    "We then need to define the function that will quantify the network's performance, the **loss function**. In this case we're using **Categorical Crossentropy**. This combined with the **Softmax layer** means the network will ouput a vector of probabilities for each samples where each probability corresponds to a particular class.\n",
    "\n",
    "For this binary (noise/signal) case it can written as:\n",
    "\n",
    "$$f(\\theta) = - \\sum_{i \\in S} log(\\theta_{i}^{S}) - \\sum_{i \\in N} log(\\theta_{i}^{N})$$\n",
    "\n",
    "where $\\theta_{i}^{S/N}$ is the predicted probability of class signal-noise (S) or noise-only (N)\n"
   ]
  },
  {
   "cell_type": "code",
   "execution_count": null,
   "id": "b75b58f8-80fd-4728-8ce5-fe53b197cd40",
   "metadata": {
    "collapsed": false,
    "id": "n8JJfOJb6-R0"
   },
   "outputs": [],
   "source": [
    "loss_func = torch.nn.CrossEntropyLoss()\n",
    "optimiser = torch.optim.Adam(model.parameters(), lr=0.001)"
   ]
  },
  {
   "cell_type": "markdown",
   "id": "eb948ccb-3a1e-4086-8967-b6a5544b03d3",
   "metadata": {
    "collapsed": false
   },
   "source": [
    "## Data setup"
   ]
  },
  {
   "cell_type": "code",
   "execution_count": null,
   "id": "7c463b07-4ad7-4034-8039-f547980bbb9e",
   "metadata": {
    "collapsed": false,
    "id": "h4RqdZV56-R0"
   },
   "outputs": [],
   "source": [
    "training_dataset = torch.utils.data.TensorDataset(torch.Tensor(x_train), torch.Tensor(y_train))    # convert training data to tensor dataset\n",
    "train_loader = torch.utils.data.DataLoader(training_dataset, batch_size=batch_size, shuffle=True)  # create a `dataloader`\n",
    "\n",
    "val_dataset = torch.utils.data.TensorDataset(torch.Tensor(x_val), torch.Tensor(y_val))\n",
    "val_loader = torch.utils.data.DataLoader(val_dataset, batch_size=batch_size, shuffle=True)"
   ]
  },
  {
   "cell_type": "markdown",
   "id": "5ecabd3f-4b82-4242-9244-f14307038ea7",
   "metadata": {
    "collapsed": false,
    "id": "5DTvxf0M6-R0"
   },
   "source": [
    "# Training\n",
    "\n",
    "We're now ready to train the network. We can write a small function which performs the training on each batch of data.\n",
    "\n",
    "A portion of the data (the validation set) is used to keep track of the networks performance during training. Importantly it is never used to update the networks parameters."
   ]
  },
  {
   "cell_type": "code",
   "execution_count": null,
   "id": "3eb2c4cf-0b3a-46a6-bb13-ae8dfb9bc327",
   "metadata": {
    "collapsed": false,
    "id": "hm2OQX1L6-R0"
   },
   "outputs": [],
   "source": [
    "def train_batch(x_batch, y_batch, train=True):\n",
    "    \"\"\" Train one batch of data\"\"\"\n",
    "    model.train(train)\n",
    "    if train:\n",
    "        optimiser.zero_grad()\n",
    "    # send data to the device\n",
    "    x_batch = x_batch.to(device)\n",
    "    y_batch = y_batch.to(device)\n",
    "    # compute outputs of the model\n",
    "    outputs = model(x_batch)\n",
    "    # compute the loss after putting them through a softmax activation to normalise them between 0 and 1\n",
    "    loss = loss_func(outputs.softmax(dim=1), y_batch.to(torch.long))\n",
    "\n",
    "    outputs = (outputs[:, 1] > 0.5).float()\n",
    "    correct = (outputs == y_batch).float().sum().cpu().numpy()\n",
    "    accuracy = 100 * correct / len(y_batch)\n",
    "    \n",
    "    # if training compute the gradients and update the optimizer based on those gradients\n",
    "    if train:\n",
    "        loss.backward()\n",
    "        optimiser.step()\n",
    "    return loss, accuracy"
   ]
  },
  {
   "cell_type": "markdown",
   "id": "98f2d433-22a4-4ed3-88fd-f30ef6a51f6e",
   "metadata": {
    "collapsed": false,
    "id": "hVSbIPTy6-R0"
   },
   "source": [
    "We can look at the training loss and validation loss as a function of time to see if the networks has trained"
   ]
  },
  {
   "cell_type": "code",
   "execution_count": null,
   "id": "4ccf357e-83db-4487-a003-8f05c9c3652d",
   "metadata": {
    "colab": {
     "base_uri": "https://localhost:8080/"
    },
    "collapsed": false,
    "id": "OMpb7Sp56-R0",
    "outputId": "915d2d79-2fa3-427f-acdd-f1acfd814364"
   },
   "outputs": [],
   "source": [
    "%%time\n",
    "train_losses = []\n",
    "val_losses = []\n",
    "train_accuracy = []\n",
    "val_accuracy = []\n",
    "# loop over the training function above for each epoch and batch\n",
    "for epoch in range(n_epochs):\n",
    "    for x_batch,y_batch in train_loader: # Loop over the batches\n",
    "        train_loss,train_acc = train_batch(x_batch, y_batch, train=True) # put batches on device and run train function\n",
    "    train_losses.append(train_loss.detach().cpu().numpy())\n",
    "    train_accuracy.append(train_acc)\n",
    "\n",
    "    # also compute loss/accuracy for the validation without computing gradients\n",
    "    with torch.no_grad():\n",
    "        for x_batch,y_batch in val_loader:\n",
    "            val_loss,val_acc = train_batch(x_batch, y_batch, train=False) # run same training loop but do not update weights\n",
    "    val_losses.append(val_loss.detach().cpu().numpy())\n",
    "    val_accuracy.append(val_acc)\n",
    "\n",
    "    print(f\"Epoch: {epoch}, Train Loss: {train_loss}, Validation Loss: {val_loss}\")"
   ]
  },
  {
   "cell_type": "markdown",
   "id": "9cf9bc78-300e-423a-9292-67b191cbd804",
   "metadata": {
    "collapsed": false,
    "id": "ox3gNuL_6-R1"
   },
   "source": [
    "## Evaluation\n",
    "\n",
    "Now that the network in trained we can analyse the output to understand how well it has learn to predict the classes."
   ]
  },
  {
   "cell_type": "markdown",
   "id": "e69529a0-a2a6-4c07-aa4f-53dda6f2a66e",
   "metadata": {
    "collapsed": false,
    "id": "iWQ4NYNf6-R1"
   },
   "source": [
    "### Loss function\n",
    "\n",
    "We can plot the values of the loss function we calculated to see how network learned over the epochs, we can also include the validation set which was never used to train the network.\n",
    "\n",
    "The validation curve can inform us if the network has over trained on the training data and not correctly learnt the underlying signal model.\n"
   ]
  },
  {
   "cell_type": "code",
   "execution_count": null,
   "id": "bf687d0f-d97f-47bf-9900-b5d65835a094",
   "metadata": {
    "colab": {
     "base_uri": "https://localhost:8080/",
     "height": 611
    },
    "collapsed": false,
    "id": "WWiA8Zvy6-R1",
    "outputId": "ca675389-9178-413a-bd3b-b91451a0cd81"
   },
   "outputs": [],
   "source": [
    "# set up the figure\n",
    "fig, axs = plt.subplots(2, 1, figsize=(8, 10), sharex=True)\n",
    "axs = axs.ravel()     # flattens the array of axes so it's easier to index\n",
    "# plot the loss\n",
    "axs[0].plot(np.arange(n_epochs), train_losses, label='Loss')\n",
    "axs[0].plot(np.arange(n_epochs), val_losses, label='Val loss')\n",
    "# plot accuracy\n",
    "axs[1].plot(np.arange(n_epochs), train_accuracy, label='Accuracy')\n",
    "axs[1].plot(np.arange(n_epochs), val_accuracy, label='Val accuracy')\n",
    "# labels\n",
    "axs[1].set_xlabel(\"Epochs\")\n",
    "axs[0].set_ylabel(\"Loss\")\n",
    "axs[1].set_ylabel(\"Accuracy\")\n",
    "axs[0].legend()\n",
    "axs[1].legend()\n",
    "plt.tight_layout()\n",
    "plt.show()"
   ]
  },
  {
   "cell_type": "markdown",
   "id": "c9a95b5f-ff00-4d19-b01a-bf6aed5217c4",
   "metadata": {
    "collapsed": false,
    "id": "E7VX_VlR6-R1"
   },
   "source": [
    "### Predictions\n",
    "\n",
    "We can easily get predictions for the testing set or any other data we might have using the trained model. We will use these to quantify the networks performance."
   ]
  },
  {
   "cell_type": "markdown",
   "id": "9a93e30a-9c59-4ac0-9d31-ad8fa8aa4dcc",
   "metadata": {
    "collapsed": false,
    "id": "loqditlW6-R1"
   },
   "source": [
    "Its a good idea to plot some of your test data to confirm that it appears similar to the training set, this can often be an issue when many transformations are made to the data."
   ]
  },
  {
   "cell_type": "code",
   "execution_count": null,
   "id": "2f9ba7a5-fbca-43b5-8ae6-aa501c6bed91",
   "metadata": {
    "colab": {
     "base_uri": "https://localhost:8080/",
     "height": 394
    },
    "collapsed": false,
    "id": "C8D_YFq_6-R1",
    "outputId": "60580ce4-aeed-4a8c-a7cc-572bf2dabf3d"
   },
   "outputs": [],
   "source": [
    "fig, ax = plt.subplots(nrows=2,figsize=(8,6))\n",
    "ax[0].plot(t, x_test[np.where(y_test==1)[0][0], 0], label=\"Signal\")\n",
    "ax[1].plot(t, x_test[np.where(y_test==0)[0][0], 0], label=\"Noise\")\n",
    "for i in range(2):\n",
    "    ax[i].set_xlabel(\"Time (s)\")\n",
    "    ax[i].set_ylabel(\"Whitened strain\")\n",
    "    ax[i].legend()\n",
    "plt.tight_layout()\n",
    "plt.show()"
   ]
  },
  {
   "cell_type": "markdown",
   "id": "1ad334c5-59ad-4245-b957-a6f1d2b3ab9a",
   "metadata": {
    "collapsed": false,
    "id": "71GC7eh56-R1"
   },
   "source": [
    "Make you predicitions!"
   ]
  },
  {
   "cell_type": "code",
   "execution_count": null,
   "id": "9cbc4201-564e-4368-8f79-651e065b5c03",
   "metadata": {
    "collapsed": false,
    "id": "Zem9vYO06-R1"
   },
   "outputs": [],
   "source": [
    "with torch.no_grad():\n",
    "    x_test_tensor = torch.FloatTensor(x_test).to(device)\n",
    "    y_pred = model(x_test_tensor).cpu()"
   ]
  },
  {
   "cell_type": "markdown",
   "id": "7ace42d1-2400-4437-8494-106b4ef34e48",
   "metadata": {
    "collapsed": false,
    "id": "7vChhNzC6-R2"
   },
   "source": [
    "Find the indices where the signals and noise are and plot the network outputs after passing through a softmax function."
   ]
  },
  {
   "cell_type": "code",
   "execution_count": null,
   "id": "d703c1e2-fa5e-4b80-b2eb-553aaf937d4b",
   "metadata": {
    "collapsed": false,
    "id": "DRuXIPr46-R2"
   },
   "outputs": [],
   "source": [
    "noiseinds = np.where(y_test == 0)[0]\n",
    "signalinds = np.where(y_test == 1)[0]"
   ]
  },
  {
   "cell_type": "code",
   "execution_count": null,
   "id": "2c8b9b2d-f04a-4989-aef3-4fe028e1b66b",
   "metadata": {
    "colab": {
     "base_uri": "https://localhost:8080/",
     "height": 285
    },
    "collapsed": false,
    "id": "aUdrPgWR6-R2",
    "outputId": "fbbe4059-8742-4a02-d970-b64cea7c2cfc"
   },
   "outputs": [],
   "source": [
    "fig, ax = plt.subplots()\n",
    "bins = np.linspace(0,1,30)\n",
    "ax.hist(y_pred[noiseinds].softmax(-1)[:,1], alpha=0.5, bins=bins, label=\"Noise\")\n",
    "ax.hist(y_pred[signalinds].softmax(-1)[:,1], alpha=0.5, bins=bins, label=\"Signal\")\n",
    "ax.set_xlabel(\"Softmax network output\")\n",
    "ax.set_ylabel(\"Count\")\n",
    "ax.legend()\n",
    "plt.show()"
   ]
  },
  {
   "cell_type": "markdown",
   "id": "e6dfa442-6dff-4510-9ddb-c413c3370d21",
   "metadata": {
    "collapsed": false,
    "id": "Qnl6oSZl6-R2"
   },
   "source": [
    "We can also look at the outputs before passing through a softmax, which can sometimes work as a better statistic."
   ]
  },
  {
   "cell_type": "code",
   "execution_count": null,
   "id": "fb340bd9-5155-486d-8c03-d114cffb3d1d",
   "metadata": {
    "colab": {
     "base_uri": "https://localhost:8080/",
     "height": 285
    },
    "collapsed": false,
    "id": "sLugtf-56-R2",
    "outputId": "3c09b257-06ce-4d1b-8510-749946ac2214"
   },
   "outputs": [],
   "source": [
    "fig, ax = plt.subplots()\n",
    "bins = np.linspace(-10,40,40)\n",
    "ax.hist(y_pred[noiseinds,1], alpha=0.5, bins=bins, label=\"Noise\")\n",
    "ax.hist(y_pred[signalinds,1], alpha=0.5, bins=bins, label=\"Signal\")\n",
    "ax.set_xlabel(\"Network output\")\n",
    "ax.set_ylabel(\"Count\")\n",
    "ax.legend()\n",
    "plt.show()"
   ]
  },
  {
   "cell_type": "markdown",
   "id": "368c1ba0-2117-4a72-89ca-6f1a7aacbd98",
   "metadata": {
    "collapsed": false,
    "id": "pVGqGQ4O6-R2"
   },
   "source": [
    "### Confusion matrix\n",
    "\n",
    "A confusion matrix allows us to visualise what classes the network is predicting correctly or incorrectly.\n",
    "\n",
    "In this case we may want to minimise the number of false positives (noise classified as signal) rather than maximise the number of true positives.\n",
    "\n",
    "Scikit-learn includes lots of useful functions to compute metrics like confusion matrices and ROC curves (which we will see later on)"
   ]
  },
  {
   "cell_type": "markdown",
   "id": "774197ba-42a2-4e7a-94d2-2d7cfcc74122",
   "metadata": {
    "collapsed": false,
    "id": "twQpHoNt6-R2"
   },
   "source": [
    "In order to compute the confusion matrix we need the predicted classes rather than their probabilites. We get these by simply taking the class with the maximum probability for each time series."
   ]
  },
  {
   "cell_type": "code",
   "execution_count": null,
   "id": "86f1ba77-4ad3-42c4-8b80-b080fb32281f",
   "metadata": {
    "collapsed": false,
    "id": "Qc_FdG8i6-R2"
   },
   "outputs": [],
   "source": [
    "pred_class = np.argmax(y_pred, axis=1)\n",
    "true_class = np.argmax(np.array([[0,1] if yt==1 else [1,0] for yt in y_test]), axis=1)"
   ]
  },
  {
   "cell_type": "markdown",
   "id": "279f89c1-3658-43d1-939d-a83667f133f4",
   "metadata": {
    "collapsed": false,
    "id": "ZXc68DIc6-R2"
   },
   "source": [
    "We can now compute the confusion matrix"
   ]
  },
  {
   "cell_type": "code",
   "execution_count": null,
   "id": "ded7993c-2263-420d-99eb-aba1192fce40",
   "metadata": {
    "collapsed": false,
    "id": "66hnjAnp6-R2"
   },
   "outputs": [],
   "source": [
    "cm = metrics.confusion_matrix(true_class, pred_class)"
   ]
  },
  {
   "cell_type": "code",
   "execution_count": null,
   "id": "215680be-29d3-4993-96fb-a0ca239302a2",
   "metadata": {
    "colab": {
     "base_uri": "https://localhost:8080/"
    },
    "collapsed": false,
    "id": "UG4pkfOZ6-R2",
    "outputId": "7e920516-d52d-4468-87b1-8463a8fc7df5"
   },
   "outputs": [],
   "source": [
    "cm/sum(cm)"
   ]
  },
  {
   "cell_type": "markdown",
   "id": "65215533-4e98-4e49-ab0d-b3ec001de3a8",
   "metadata": {
    "collapsed": false,
    "id": "BA6tC6KA6-R2"
   },
   "source": [
    "## ROC curves\n",
    "\n",
    "Reciever operator characteristic curves are another way of quatifying the network's performance. It's a plot of the true positive rate (probability of detection) against the false positive rate (probabilty of false alarm).\n",
    "\n",
    "We use Scikit learn again to compute the ROC curve, but this time we use the probabilites instead of the classes. Importantly we use the probability of the a time series being a signal (the second column in the matrix representation)."
   ]
  },
  {
   "cell_type": "code",
   "execution_count": null,
   "id": "1cc65a2a-784d-42a1-aa10-ba3b4aa91869",
   "metadata": {
    "collapsed": false,
    "id": "aviO_6hX6-R3"
   },
   "outputs": [],
   "source": [
    "# [:, 1] for second column\n",
    "fa, ta, _ = metrics.roc_curve(y_test, y_pred[:,1])"
   ]
  },
  {
   "cell_type": "code",
   "execution_count": null,
   "id": "fa9029c4-00c7-487d-982e-d4dd0679221b",
   "metadata": {
    "colab": {
     "base_uri": "https://localhost:8080/",
     "height": 518
    },
    "collapsed": false,
    "id": "rw1on9I76-R3",
    "outputId": "0eaee68c-6081-46ff-ed20-98f53943ac05"
   },
   "outputs": [],
   "source": [
    "fig = plt.figure(figsize=(8,8))\n",
    "plt.plot(fa, ta)\n",
    "plt.xlabel('False alarm probability')\n",
    "plt.ylabel('True alarm probability')\n",
    "plt.title('ROC curve ')\n",
    "plt.show()"
   ]
  },
  {
   "cell_type": "markdown",
   "id": "0fa3f535-5237-47c4-bf7b-a1ba4086c443",
   "metadata": {
    "collapsed": false,
    "id": "TmOdSH4d6-R3"
   },
   "source": [
    "## Detection Threshold"
   ]
  },
  {
   "cell_type": "markdown",
   "id": "78bac53d-26e8-4aa3-8c31-89a1c307a48e",
   "metadata": {
    "collapsed": false,
    "id": "5AYGGc086-R3"
   },
   "source": [
    "One can empirically estimate a detection threshold by setting a false alarm rate (say 1%) and measuring the statistic based on many examples of the noise."
   ]
  },
  {
   "cell_type": "markdown",
   "id": "e896777e-9412-473b-bc4c-569dd3e470aa",
   "metadata": {
    "collapsed": false,
    "id": "-FuZ8SB56-R4"
   },
   "source": [
    "Below we get the network outputs for all the noise only inputs, arange them in order of value and take the value where 1% of the outputs is larger (i.e. 1% falsa alarm)"
   ]
  },
  {
   "cell_type": "code",
   "execution_count": null,
   "id": "5e95e298-0d3c-499d-85d4-ab0bc9cff322",
   "metadata": {
    "collapsed": false,
    "id": "c7PpF5zX6-R4"
   },
   "outputs": [],
   "source": [
    "perc1_fa = sorted(y_pred[noiseinds,1])[int(0.99*len(y_pred[noiseinds,1]))]"
   ]
  },
  {
   "cell_type": "code",
   "execution_count": null,
   "id": "3c6e4d05-62a0-4200-87cd-1574ec6bcdbd",
   "metadata": {
    "colab": {
     "base_uri": "https://localhost:8080/"
    },
    "collapsed": false,
    "id": "DnmpoAFV6-R5",
    "outputId": "b59d73ee-b6a4-4982-d6e6-ff60ddda0fa7"
   },
   "outputs": [],
   "source": [
    "sum(y_pred[:,1]<perc1_fa)"
   ]
  },
  {
   "cell_type": "code",
   "execution_count": null,
   "id": "4f14b58a-958e-4457-bd54-4c3e1f06ba14",
   "metadata": {
    "colab": {
     "base_uri": "https://localhost:8080/",
     "height": 303
    },
    "collapsed": false,
    "id": "VjTaWiFl6-R5",
    "outputId": "2432a908-3dd8-4e55-b36f-12cb7ceb1035"
   },
   "outputs": [],
   "source": [
    "fig, ax = plt.subplots()\n",
    "bins = np.linspace(y_pred.min(), y_pred.max(), 40)\n",
    "ax.hist(y_pred[noiseinds,1], alpha=0.5, label=\"Noise\", bins=bins)\n",
    "ax.hist(y_pred[signalinds,1], alpha=0.5, label=\"Signal\", bins=bins)\n",
    "ax.axvline(perc1_fa, color=\"red\", label=\"1% false alarm\")\n",
    "ax.set_xlabel(\"ML statistic\")\n",
    "ax.legend()\n",
    "plt.show()"
   ]
  },
  {
   "cell_type": "markdown",
   "id": "9083418a-c81b-4d6b-acf9-8b3c518b5f54",
   "metadata": {
    "collapsed": false,
    "id": "TWbIdEdK6-R5"
   },
   "source": [
    "# Try yourself 🌊🏆"
   ]
  },
  {
   "cell_type": "markdown",
   "id": "eec98b14-dbaa-4839-91a2-68e72e0d4d98",
   "metadata": {
    "collapsed": false,
    "id": "gxIo3uT56-R5"
   },
   "source": [
    "Try and write some code to produce point estimates of some of the parameters of the waveforms as well as a detection statistic.\n",
    "i.e. try and predict the mass as well."
   ]
  },
  {
   "cell_type": "markdown",
   "id": "89f279b8-9e50-4bba-93f3-7102c8f99922",
   "metadata": {
    "collapsed": false,
    "id": "sSODSwwi6-R5"
   },
   "source": [
    "To estimate the parameters we need many examples of the data associated with the parameters. For the training set that has been provided the labels are saved as [\"class\", \"mass_1\", \"mass_2\", \"luminosity_distance\", \"dec\", \"ra\"] where class refers to signal or no signal.\n",
    "We use the \"class\" in the previous step for classification, but now you can try and predict some of the parameters.\n",
    "Be aware that because of the parmaeter space we have chosen, the dec and ra should be fixed values."
   ]
  },
  {
   "cell_type": "markdown",
   "id": "b3613218-5ecd-40e2-b0b0-2ab6d9961562",
   "metadata": {
    "collapsed": false
   },
   "source": [
    "You will need to write the model as a class to allow for both loss functions, an example of how to do this is here: https://pytorch.org/tutorials/beginner/basics/buildmodel_tutorial.html#define-the-class"
   ]
  },
  {
   "cell_type": "markdown",
   "id": "315af011-b87f-42a8-9141-413d823eb8eb",
   "metadata": {
    "collapsed": false
   },
   "source": []
  }
 ],
 "metadata": {
  "accelerator": "GPU",
  "colab": {
   "provenance": []
  },
  "kernelspec": {
   "argv": [
    "/home/csantos/.conda/envs/t1mldetection/bin/python",
    "-m",
    "ipykernel_launcher",
    "-f",
    "{connection_file}"
   ],
   "display_name": "Python 3 (ipykernel)",
   "env": null,
   "interrupt_mode": "signal",
   "language": "python",
   "metadata": {
    "debugger": true
   },
   "name": "python3"
  },
  "language_info": {
   "codemirror_mode": {
    "name": "ipython",
    "version": 3
   },
   "file_extension": ".py",
   "mimetype": "text/x-python",
   "name": "python",
   "nbconvert_exporter": "python",
   "pygments_lexer": "ipython3",
   "version": "3.9.13"
  },
  "name": "lisa_workshop_detection.ipynb",
  "vscode": {
   "interpreter": {
    "hash": "32c38288bcb9d4fb05f9a3223bbb6cbd88bf9e2ea63aa220defd1e4ab937fa4a"
   }
  }
 },
 "nbformat": 4,
 "nbformat_minor": 1
}
